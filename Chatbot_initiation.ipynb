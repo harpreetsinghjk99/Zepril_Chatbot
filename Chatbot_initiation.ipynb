{
  "nbformat": 4,
  "nbformat_minor": 0,
  "metadata": {
    "colab": {
      "name": "Chatbot_initiation.ipynb",
      "provenance": [],
      "authorship_tag": "ABX9TyNBhIopwsEVmnPYpfwPmAQs",
      "include_colab_link": true
    },
    "kernelspec": {
      "name": "python3",
      "display_name": "Python 3"
    }
  },
  "cells": [
    {
      "cell_type": "markdown",
      "metadata": {
        "id": "view-in-github",
        "colab_type": "text"
      },
      "source": [
        "<a href=\"https://colab.research.google.com/github/harpreetsinghjk99/Zepril_Chatbot/blob/master/Chatbot_initiation.ipynb\" target=\"_parent\"><img src=\"https://colab.research.google.com/assets/colab-badge.svg\" alt=\"Open In Colab\"/></a>"
      ]
    },
    {
      "cell_type": "markdown",
      "metadata": {
        "id": "LOmsrHz_Mw1H",
        "colab_type": "text"
      },
      "source": [
        "This Document is the begging of a chatbot development for Zepril"
      ]
    },
    {
      "cell_type": "code",
      "metadata": {
        "id": "LlLSOdIvNAN2",
        "colab_type": "code",
        "colab": {}
      },
      "source": [
        ""
      ],
      "execution_count": null,
      "outputs": []
    }
  ]
}