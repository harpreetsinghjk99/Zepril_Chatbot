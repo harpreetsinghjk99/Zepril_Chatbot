{
  "nbformat": 4,
  "nbformat_minor": 0,
  "metadata": {
    "colab": {
      "name": "Chatbot_initiation.ipynb",
      "provenance": [],
      "private_outputs": true,
      "authorship_tag": "ABX9TyPWRnW+bExgrgjAxI1/ZrDe",
      "include_colab_link": true
    },
    "kernelspec": {
      "name": "python3",
      "display_name": "Python 3"
    },
    "accelerator": "GPU"
  },
  "cells": [
    {
      "cell_type": "markdown",
      "metadata": {
        "id": "view-in-github",
        "colab_type": "text"
      },
      "source": [
        "<a href=\"https://colab.research.google.com/github/harpreetsinghjk99/Zepril_Chatbot/blob/master/Chatbot_initiation.ipynb\" target=\"_parent\"><img src=\"https://colab.research.google.com/assets/colab-badge.svg\" alt=\"Open In Colab\"/></a>"
      ]
    },
    {
      "cell_type": "markdown",
      "metadata": {
        "id": "LOmsrHz_Mw1H",
        "colab_type": "text"
      },
      "source": [
        "This Document is the begging of a chatbot development for Zepril"
      ]
    },
    {
      "cell_type": "code",
      "metadata": {
        "id": "LlLSOdIvNAN2",
        "colab_type": "code",
        "colab": {}
      },
      "source": [
        "#Import Library\n",
        "from nltk.chat.util import Chat, reflections\n"
      ],
      "execution_count": null,
      "outputs": []
    },
    {
      "cell_type": "code",
      "metadata": {
        "id": "j3TNK2ZsPPpj",
        "colab_type": "code",
        "colab": {}
      },
      "source": [
        "#Sentence pair dictionary\n",
        "pairs = [\n",
        "         ['my name is (.*)',['hi %1']],\n",
        "         ['(hi|hello|hey|holla)',['hey there', 'hi there', 'whats up']],\n",
        "         ['((.*)help(.*)|(.*)help)', ['Please select a category where you need assistance \\n 1. Video and Animation \\n 2. Design and Editing \\n 3. Buissness Requirement \\n 4. Grow the buisness ']],\n",
        "\n",
        "\n",
        "]"
      ],
      "execution_count": null,
      "outputs": []
    },
    {
      "cell_type": "code",
      "metadata": {
        "id": "FLuVucMCPzqQ",
        "colab_type": "code",
        "colab": {}
      },
      "source": [
        "chat = Chat(pairs , reflections)\n",
        "chat.converse()"
      ],
      "execution_count": null,
      "outputs": []
    }
  ]
}